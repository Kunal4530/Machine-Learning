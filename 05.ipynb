{
  "cells": [
    {
      "cell_type": "code",
      "execution_count": null,
      "id": "1958bafd",
      "metadata": {
        "id": "1958bafd"
      },
      "outputs": [],
      "source": [
        "import numpy as np\n",
        "import pandas as pd\n",
        "import matplotlib.pyplot as plt\n",
        "import seaborn as sns"
      ]
    },
    {
      "cell_type": "code",
      "execution_count": null,
      "id": "f33493e2",
      "metadata": {
        "id": "f33493e2"
      },
      "outputs": [],
      "source": [
        "df=pd.read_csv('LR_SR.csv')"
      ]
    },
    {
      "cell_type": "code",
      "execution_count": null,
      "id": "7b28aefb",
      "metadata": {
        "id": "7b28aefb",
        "outputId": "a2875b13-5c2a-49e8-d29a-6a5fa90df3f8"
      },
      "outputs": [
        {
          "data": {
            "text/html": [
              "<div>\n",
              "<style scoped>\n",
              "    .dataframe tbody tr th:only-of-type {\n",
              "        vertical-align: middle;\n",
              "    }\n",
              "\n",
              "    .dataframe tbody tr th {\n",
              "        vertical-align: top;\n",
              "    }\n",
              "\n",
              "    .dataframe thead th {\n",
              "        text-align: right;\n",
              "    }\n",
              "</style>\n",
              "<table border=\"1\" class=\"dataframe\">\n",
              "  <thead>\n",
              "    <tr style=\"text-align: right;\">\n",
              "      <th></th>\n",
              "      <th>x</th>\n",
              "      <th>y</th>\n",
              "    </tr>\n",
              "  </thead>\n",
              "  <tbody>\n",
              "    <tr>\n",
              "      <th>0</th>\n",
              "      <td>24.0</td>\n",
              "      <td>21.549452</td>\n",
              "    </tr>\n",
              "    <tr>\n",
              "      <th>1</th>\n",
              "      <td>50.0</td>\n",
              "      <td>47.464463</td>\n",
              "    </tr>\n",
              "    <tr>\n",
              "      <th>2</th>\n",
              "      <td>15.0</td>\n",
              "      <td>17.218656</td>\n",
              "    </tr>\n",
              "    <tr>\n",
              "      <th>3</th>\n",
              "      <td>38.0</td>\n",
              "      <td>36.586398</td>\n",
              "    </tr>\n",
              "    <tr>\n",
              "      <th>4</th>\n",
              "      <td>87.0</td>\n",
              "      <td>87.288984</td>\n",
              "    </tr>\n",
              "  </tbody>\n",
              "</table>\n",
              "</div>"
            ],
            "text/plain": [
              "      x          y\n",
              "0  24.0  21.549452\n",
              "1  50.0  47.464463\n",
              "2  15.0  17.218656\n",
              "3  38.0  36.586398\n",
              "4  87.0  87.288984"
            ]
          },
          "execution_count": 4,
          "metadata": {},
          "output_type": "execute_result"
        }
      ],
      "source": [
        "df.head()"
      ]
    },
    {
      "cell_type": "code",
      "execution_count": null,
      "id": "493216ca",
      "metadata": {
        "id": "493216ca",
        "outputId": "5bbc1aea-5205-4a16-ebc0-5aa8beedccb1"
      },
      "outputs": [
        {
          "name": "stdout",
          "output_type": "stream",
          "text": [
            "x    0\n",
            "y    1\n",
            "dtype: int64\n"
          ]
        }
      ],
      "source": [
        "null_values=df.isnull().sum()\n",
        "print(null_values)"
      ]
    },
    {
      "cell_type": "code",
      "execution_count": null,
      "id": "8256f08a",
      "metadata": {
        "id": "8256f08a"
      },
      "outputs": [],
      "source": [
        "df=df.dropna()"
      ]
    },
    {
      "cell_type": "code",
      "execution_count": null,
      "id": "a3197bf4",
      "metadata": {
        "id": "a3197bf4",
        "outputId": "1a0b04ce-2bde-4b06-b805-70dbc87cb638"
      },
      "outputs": [
        {
          "name": "stdout",
          "output_type": "stream",
          "text": [
            "x    0\n",
            "y    0\n",
            "dtype: int64\n"
          ]
        }
      ],
      "source": [
        "null_values=df.isnull().sum()\n",
        "print(null_values)"
      ]
    },
    {
      "cell_type": "code",
      "execution_count": null,
      "id": "29603654",
      "metadata": {
        "id": "29603654",
        "outputId": "0b772282-ba25-41ac-9f6d-6865f73cff53"
      },
      "outputs": [
        {
          "data": {
            "text/plain": [
              "<matplotlib.collections.PathCollection at 0x116b2736500>"
            ]
          },
          "execution_count": 8,
          "metadata": {},
          "output_type": "execute_result"
        },
        {
          "data": {
            "image/png": "[encoded data removed]",
            "text/plain": [
              "<Figure size 640x480 with 1 Axes>"
            ]
          },
          "metadata": {},
          "output_type": "display_data"
        }
      ],
      "source": [
        "plt.scatter(df.x,df.y)"
      ]
    },
    {
      "cell_type": "code",
      "execution_count": null,
      "id": "35e45717",
      "metadata": {
        "id": "35e45717"
      },
      "outputs": [],
      "source": [
        "from sklearn.linear_model import LinearRegression\n",
        "from sklearn.model_selection import train_test_split\n"
      ]
    },
    {
      "cell_type": "code",
      "execution_count": null,
      "id": "eba5b7ea",
      "metadata": {
        "id": "eba5b7ea"
      },
      "outputs": [],
      "source": [
        "X =df.drop(['y'],axis='columns')  # Your feature data\n",
        "Y =df.drop(['x'],axis='columns')# Your target variable\n",
        "\n",
        "X_train, X_test, Y_train, Y_test = train_test_split(X, Y, test_size=0.2, random_state=42)\n"
      ]
    },
    {
      "cell_type": "code",
      "execution_count": null,
      "id": "d813221d",
      "metadata": {
        "id": "d813221d",
        "outputId": "efd2fab0-b28b-4d6f-aa67-50e96a5ce207"
      },
      "outputs": [
        {
          "data": {
            "text/plain": [
              "(559, 1)"
            ]
          },
          "execution_count": 11,
          "metadata": {},
          "output_type": "execute_result"
        }
      ],
      "source": [
        "X_train.shape"
      ]
    },
    {
      "cell_type": "code",
      "execution_count": null,
      "id": "5ef05b46",
      "metadata": {
        "id": "5ef05b46",
        "outputId": "ced93fba-1b1d-4e6a-a8ed-7d055049b87c"
      },
      "outputs": [
        {
          "data": {
            "text/plain": [
              "(140, 1)"
            ]
          },
          "execution_count": 12,
          "metadata": {},
          "output_type": "execute_result"
        }
      ],
      "source": [
        "X_test.shape"
      ]
    },
    {
      "cell_type": "code",
      "execution_count": null,
      "id": "a6f8a59f",
      "metadata": {
        "id": "a6f8a59f",
        "outputId": "040782b9-735c-4fbe-a104-a7368a473ef2"
      },
      "outputs": [
        {
          "data": {
            "text/plain": [
              "(559, 1)"
            ]
          },
          "execution_count": 13,
          "metadata": {},
          "output_type": "execute_result"
        }
      ],
      "source": [
        "Y_train.shape"
      ]
    },
    {
      "cell_type": "code",
      "execution_count": null,
      "id": "327bc6de",
      "metadata": {
        "id": "327bc6de",
        "outputId": "0a5c3235-f3ff-4623-b1eb-7ca82996cce6"
      },
      "outputs": [
        {
          "data": {
            "text/html": [
              "<style>#sk-container-id-1 {color: black;background-color: white;}#sk-container-id-1 pre{padding: 0;}#sk-container-id-1 div.sk-toggleable {background-color: white;}#sk-container-id-1 label.sk-toggleable__label {cursor: pointer;display: block;width: 100%;margin-bottom: 0;padding: 0.3em;box-sizing: border-box;text-align: center;}#sk-container-id-1 label.sk-toggleable__label-arrow:before {content: \"▸\";float: left;margin-right: 0.25em;color: #696969;}#sk-container-id-1 label.sk-toggleable__label-arrow:hover:before {color: black;}#sk-container-id-1 div.sk-estimator:hover label.sk-toggleable__label-arrow:before {color: black;}#sk-container-id-1 div.sk-toggleable__content {max-height: 0;max-width: 0;overflow: hidden;text-align: left;background-color: #f0f8ff;}#sk-container-id-1 div.sk-toggleable__content pre {margin: 0.2em;color: black;border-radius: 0.25em;background-color: #f0f8ff;}#sk-container-id-1 input.sk-toggleable__control:checked~div.sk-toggleable__content {max-height: 200px;max-width: 100%;overflow: auto;}#sk-container-id-1 input.sk-toggleable__control:checked~label.sk-toggleable__label-arrow:before {content: \"▾\";}#sk-container-id-1 div.sk-estimator input.sk-toggleable__control:checked~label.sk-toggleable__label {background-color: #d4ebff;}#sk-container-id-1 div.sk-label input.sk-toggleable__control:checked~label.sk-toggleable__label {background-color: #d4ebff;}#sk-container-id-1 input.sk-hidden--visually {border: 0;clip: rect(1px 1px 1px 1px);clip: rect(1px, 1px, 1px, 1px);height: 1px;margin: -1px;overflow: hidden;padding: 0;position: absolute;width: 1px;}#sk-container-id-1 div.sk-estimator {font-family: monospace;background-color: #f0f8ff;border: 1px dotted black;border-radius: 0.25em;box-sizing: border-box;margin-bottom: 0.5em;}#sk-container-id-1 div.sk-estimator:hover {background-color: #d4ebff;}#sk-container-id-1 div.sk-parallel-item::after {content: \"\";width: 100%;border-bottom: 1px solid gray;flex-grow: 1;}#sk-container-id-1 div.sk-label:hover label.sk-toggleable__label {background-color: #d4ebff;}#sk-container-id-1 div.sk-serial::before {content: \"\";position: absolute;border-left: 1px solid gray;box-sizing: border-box;top: 0;bottom: 0;left: 50%;z-index: 0;}#sk-container-id-1 div.sk-serial {display: flex;flex-direction: column;align-items: center;background-color: white;padding-right: 0.2em;padding-left: 0.2em;position: relative;}#sk-container-id-1 div.sk-item {position: relative;z-index: 1;}#sk-container-id-1 div.sk-parallel {display: flex;align-items: stretch;justify-content: center;background-color: white;position: relative;}#sk-container-id-1 div.sk-item::before, #sk-container-id-1 div.sk-parallel-item::before {content: \"\";position: absolute;border-left: 1px solid gray;box-sizing: border-box;top: 0;bottom: 0;left: 50%;z-index: -1;}#sk-container-id-1 div.sk-parallel-item {display: flex;flex-direction: column;z-index: 1;position: relative;background-color: white;}#sk-container-id-1 div.sk-parallel-item:first-child::after {align-self: flex-end;width: 50%;}#sk-container-id-1 div.sk-parallel-item:last-child::after {align-self: flex-start;width: 50%;}#sk-container-id-1 div.sk-parallel-item:only-child::after {width: 0;}#sk-container-id-1 div.sk-dashed-wrapped {border: 1px dashed gray;margin: 0 0.4em 0.5em 0.4em;box-sizing: border-box;padding-bottom: 0.4em;background-color: white;}#sk-container-id-1 div.sk-label label {font-family: monospace;font-weight: bold;display: inline-block;line-height: 1.2em;}#sk-container-id-1 div.sk-label-container {text-align: center;}#sk-container-id-1 div.sk-container {/* jupyter's `normalize.less` sets `[hidden] { display: none; }` but bootstrap.min.css set `[hidden] { display: none !important; }` so we also need the `!important` here to be able to override the default hidden behavior on the sphinx rendered scikit-learn.org. See: https://github.com/scikit-learn/scikit-learn/issues/21755 */display: inline-block !important;position: relative;}#sk-container-id-1 div.sk-text-repr-fallback {display: none;}</style><div id=\"sk-container-id-1\" class=\"sk-top-container\"><div class=\"sk-text-repr-fallback\"><pre>LinearRegression()</pre><b>In a Jupyter environment, please rerun this cell to show the HTML representation or trust the notebook. <br />On GitHub, the HTML representation is unable to render, please try loading this page with nbviewer.org.</b></div><div class=\"sk-container\" hidden><div class=\"sk-item\"><div class=\"sk-estimator sk-toggleable\"><input class=\"sk-toggleable__control sk-hidden--visually\" id=\"sk-estimator-id-1\" type=\"checkbox\" checked><label for=\"sk-estimator-id-1\" class=\"sk-toggleable__label sk-toggleable__label-arrow\">LinearRegression</label><div class=\"sk-toggleable__content\"><pre>LinearRegression()</pre></div></div></div></div></div>"
            ],
            "text/plain": [
              "LinearRegression()"
            ]
          },
          "execution_count": 14,
          "metadata": {},
          "output_type": "execute_result"
        }
      ],
      "source": [
        "reg = LinearRegression()\n",
        "reg.fit(X_train,Y_train)"
      ]
    },
    {
      "cell_type": "code",
      "execution_count": null,
      "id": "63adb056",
      "metadata": {
        "id": "63adb056"
      },
      "outputs": [],
      "source": [
        "y_test_predict= reg.predict(X_test)"
      ]
    },
    {
      "cell_type": "code",
      "execution_count": null,
      "id": "eb5db0f7",
      "metadata": {
        "id": "eb5db0f7",
        "outputId": "77b157e2-0bae-4813-a9cb-23c1ed01b1d0"
      },
      "outputs": [
        {
          "data": {
            "text/plain": [
              "array([[ 1.00025030e+02],\n",
              "       [ 9.70213794e+01],\n",
              "       [ 1.19179548e+01],\n",
              "       [ 8.60079950e+01],\n",
              "       [ 9.10140788e+01],\n",
              "       [ 1.00025030e+02],\n",
              "       [ 6.49824431e+01],\n",
              "       [ 2.49337727e+01],\n",
              "       [ 3.39447235e+01],\n",
              "       [ 2.19301224e+01],\n",
              "       [ 6.09775760e+01],\n",
              "       [ 2.19301224e+01],\n",
              "       [ 5.09654084e+01],\n",
              "       [ 4.90943749e+00],\n",
              "       [ 1.90578721e+00],\n",
              "       [ 3.19422900e+01],\n",
              "       [ 2.49337727e+01],\n",
              "       [-9.66463086e-02],\n",
              "       [ 3.49459403e+01],\n",
              "       [ 4.29556744e+01],\n",
              "       [ 9.90238129e+01],\n",
              "       [ 1.69240386e+01],\n",
              "       [ 2.39325559e+01],\n",
              "       [ 9.04570451e-01],\n",
              "       [ 4.90943749e+00],\n",
              "       [ 7.39933939e+01],\n",
              "       [ 2.89386397e+01],\n",
              "       [ 1.39203883e+01],\n",
              "       [ 3.49459403e+01],\n",
              "       [ 7.79982610e+01],\n",
              "       [ 6.79860934e+01],\n",
              "       [ 1.39203883e+01],\n",
              "       [ 7.89994777e+01],\n",
              "       [ 5.59714922e+01],\n",
              "       [ 5.19666252e+01],\n",
              "       [ 7.59958274e+01],\n",
              "       [ 4.29556744e+01],\n",
              "       [ 2.29313392e+01],\n",
              "       [ 9.10140788e+01],\n",
              "       [ 2.69362062e+01],\n",
              "       [ 1.90578721e+00],\n",
              "       [ 4.90943749e+00],\n",
              "       [ 4.99641917e+01],\n",
              "       [ 4.39568911e+01],\n",
              "       [ 4.69605414e+01],\n",
              "       [ 2.90700397e+00],\n",
              "       [ 5.79739258e+01],\n",
              "       [ 9.80225962e+01],\n",
              "       [ 6.91187101e+00],\n",
              "       [ 6.91187101e+00],\n",
              "       [ 3.69483738e+01],\n",
              "       [ 5.29678420e+01],\n",
              "       [ 3.39447235e+01],\n",
              "       [ 1.59228218e+01],\n",
              "       [ 5.09654084e+01],\n",
              "       [ 8.10019112e+01],\n",
              "       [ 5.19666252e+01],\n",
              "       [ 4.69605414e+01],\n",
              "       [ 5.99763593e+01],\n",
              "       [ 4.19544576e+01],\n",
              "       [ 2.49337727e+01],\n",
              "       [ 7.89994777e+01],\n",
              "       [ 3.49459403e+01],\n",
              "       [ 3.90822073e+00],\n",
              "       [ 4.90943749e+00],\n",
              "       [ 1.89264721e+01],\n",
              "       [ 1.39203883e+01],\n",
              "       [ 8.91430453e+00],\n",
              "       [ 9.50189459e+01],\n",
              "       [ 1.19179548e+01],\n",
              "       [ 2.29313392e+01],\n",
              "       [ 1.49216051e+01],\n",
              "       [ 4.79617582e+01],\n",
              "       [ 2.90700397e+00],\n",
              "       [ 1.89264721e+01],\n",
              "       [ 5.79739258e+01],\n",
              "       [ 5.29678420e+01],\n",
              "       [ 7.91308777e+00],\n",
              "       [ 7.09897436e+01],\n",
              "       [ 3.19422900e+01],\n",
              "       [ 2.90700397e+00],\n",
              "       [ 4.99641917e+01],\n",
              "       [ 9.90238129e+01],\n",
              "       [ 4.99641917e+01],\n",
              "       [ 4.69605414e+01],\n",
              "       [ 5.19666252e+01],\n",
              "       [ 5.79739258e+01],\n",
              "       [ 1.59228218e+01],\n",
              "       [ 3.90822073e+00],\n",
              "       [ 7.49946107e+01],\n",
              "       [ 3.39447235e+01],\n",
              "       [ 4.89629749e+01],\n",
              "       [ 3.59471570e+01],\n",
              "       [ 7.39933939e+01],\n",
              "       [ 2.09289056e+01],\n",
              "       [ 7.49946107e+01],\n",
              "       [ 8.60079950e+01],\n",
              "       [ 9.90238129e+01],\n",
              "       [ 5.19666252e+01],\n",
              "       [ 7.29921772e+01],\n",
              "       [ 1.89264721e+01],\n",
              "       [ 5.29678420e+01],\n",
              "       [ 1.00025030e+02],\n",
              "       [ 3.59471570e+01],\n",
              "       [ 4.99641917e+01],\n",
              "       [ 9.90238129e+01],\n",
              "       [ 3.29435068e+01],\n",
              "       [ 3.09410732e+01],\n",
              "       [ 5.19666252e+01],\n",
              "       [ 6.79860934e+01],\n",
              "       [ 1.39203883e+01],\n",
              "       [ 5.19666252e+01],\n",
              "       [ 1.19179548e+01],\n",
              "       [ 1.29191716e+01],\n",
              "       [ 1.89264721e+01],\n",
              "       [ 7.49946107e+01],\n",
              "       [ 1.99276889e+01],\n",
              "       [ 6.09775760e+01],\n",
              "       [ 3.49459403e+01],\n",
              "       [ 9.50189459e+01],\n",
              "       [ 7.91308777e+00],\n",
              "       [ 9.00128621e+01],\n",
              "       [ 5.79739258e+01],\n",
              "       [ 9.30165124e+01],\n",
              "       [ 3.09410732e+01],\n",
              "       [ 8.30043448e+01],\n",
              "       [ 1.59228218e+01],\n",
              "       [ 2.99398565e+01],\n",
              "       [ 9.20152956e+01],\n",
              "       [-9.66463086e-02],\n",
              "       [ 2.39325559e+01],\n",
              "       [ 8.91430453e+00],\n",
              "       [ 7.49946107e+01],\n",
              "       [ 7.49946107e+01],\n",
              "       [ 4.29556744e+01],\n",
              "       [ 8.40055615e+01],\n",
              "       [ 4.19544576e+01],\n",
              "       [ 2.89386397e+01],\n",
              "       [ 4.39568911e+01],\n",
              "       [ 4.89629749e+01]])"
            ]
          },
          "execution_count": 16,
          "metadata": {},
          "output_type": "execute_result"
        }
      ],
      "source": [
        "y_test_predict"
      ]
    },
    {
      "cell_type": "code",
      "execution_count": null,
      "id": "6e5ae849",
      "metadata": {
        "id": "6e5ae849",
        "outputId": "93970b7d-d279-4ed0-b0e9-60a0f8f2184d"
      },
      "outputs": [
        {
          "data": {
            "image/png": "[encoded data removed]",
            "text/plain": [
              "<Figure size 640x480 with 1 Axes>"
            ]
          },
          "metadata": {},
          "output_type": "display_data"
        }
      ],
      "source": [
        "plt.scatter(X_test,Y_test,color='g')\n",
        "plt.plot(X_test,y_test_predict, color='red')\n",
        "plt.xlabel('X_test')\n",
        "plt.ylabel('y_test_predict')\n",
        "plt.show()"
      ]
    },
    {
      "cell_type": "code",
      "execution_count": null,
      "id": "aef51569",
      "metadata": {
        "id": "aef51569",
        "outputId": "44a22cb0-8b99-49f5-c8b7-d725034e360e"
      },
      "outputs": [
        {
          "data": {
            "text/plain": [
              "array([-0.09664631])"
            ]
          },
          "execution_count": 18,
          "metadata": {},
          "output_type": "execute_result"
        }
      ],
      "source": [
        "c=reg.intercept_\n",
        "c"
      ]
    },
    {
      "cell_type": "code",
      "execution_count": null,
      "id": "ff6eccba",
      "metadata": {
        "id": "ff6eccba",
        "outputId": "c574dcaa-9ed9-43ff-f4da-f8a0a73aefdd"
      },
      "outputs": [
        {
          "data": {
            "text/plain": [
              "array([[1.00121676]])"
            ]
          },
          "execution_count": 19,
          "metadata": {},
          "output_type": "execute_result"
        }
      ],
      "source": [
        "m = reg.coef_\n",
        "m"
      ]
    },
    {
      "cell_type": "code",
      "execution_count": null,
      "id": "fe7ce0fb",
      "metadata": {
        "id": "fe7ce0fb",
        "outputId": "8178d13f-b9c6-4639-88fa-b6f25ac0acb9"
      },
      "outputs": [
        {
          "data": {
            "text/html": [
              "<div>\n",
              "<style scoped>\n",
              "    .dataframe tbody tr th:only-of-type {\n",
              "        vertical-align: middle;\n",
              "    }\n",
              "\n",
              "    .dataframe tbody tr th {\n",
              "        vertical-align: top;\n",
              "    }\n",
              "\n",
              "    .dataframe thead th {\n",
              "        text-align: right;\n",
              "    }\n",
              "</style>\n",
              "<table border=\"1\" class=\"dataframe\">\n",
              "  <thead>\n",
              "    <tr style=\"text-align: right;\">\n",
              "      <th></th>\n",
              "      <th>x</th>\n",
              "    </tr>\n",
              "  </thead>\n",
              "  <tbody>\n",
              "    <tr>\n",
              "      <th>82</th>\n",
              "      <td>10.916738</td>\n",
              "    </tr>\n",
              "    <tr>\n",
              "      <th>51</th>\n",
              "      <td>43.956891</td>\n",
              "    </tr>\n",
              "    <tr>\n",
              "      <th>221</th>\n",
              "      <td>73.993394</td>\n",
              "    </tr>\n",
              "    <tr>\n",
              "      <th>560</th>\n",
              "      <td>24.933773</td>\n",
              "    </tr>\n",
              "    <tr>\n",
              "      <th>545</th>\n",
              "      <td>28.938640</td>\n",
              "    </tr>\n",
              "    <tr>\n",
              "      <th>...</th>\n",
              "      <td>...</td>\n",
              "    </tr>\n",
              "    <tr>\n",
              "      <th>71</th>\n",
              "      <td>63.981226</td>\n",
              "    </tr>\n",
              "    <tr>\n",
              "      <th>106</th>\n",
              "      <td>70.989744</td>\n",
              "    </tr>\n",
              "    <tr>\n",
              "      <th>271</th>\n",
              "      <td>50.965408</td>\n",
              "    </tr>\n",
              "    <tr>\n",
              "      <th>436</th>\n",
              "      <td>87.009212</td>\n",
              "    </tr>\n",
              "    <tr>\n",
              "      <th>102</th>\n",
              "      <td>45.959325</td>\n",
              "    </tr>\n",
              "  </tbody>\n",
              "</table>\n",
              "<p>559 rows × 1 columns</p>\n",
              "</div>"
            ],
            "text/plain": [
              "             x\n",
              "82   10.916738\n",
              "51   43.956891\n",
              "221  73.993394\n",
              "560  24.933773\n",
              "545  28.938640\n",
              "..         ...\n",
              "71   63.981226\n",
              "106  70.989744\n",
              "271  50.965408\n",
              "436  87.009212\n",
              "102  45.959325\n",
              "\n",
              "[559 rows x 1 columns]"
            ]
          },
          "execution_count": 20,
          "metadata": {},
          "output_type": "execute_result"
        }
      ],
      "source": [
        "y_predict_train = m*X_train+c\n",
        "y_predict_train"
      ]
    },
    {
      "cell_type": "code",
      "execution_count": null,
      "id": "9d643b7f",
      "metadata": {
        "id": "9d643b7f",
        "outputId": "032f65b9-988b-4e12-fa75-e829037f1cef"
      },
      "outputs": [
        {
          "data": {
            "image/png": "[encoded data removed]",
            "text/plain": [
              "<Figure size 640x480 with 1 Axes>"
            ]
          },
          "metadata": {},
          "output_type": "display_data"
        }
      ],
      "source": [
        "plt.scatter(X_train,Y_train,color='g')\n",
        "plt.plot(X_train,y_predict_train,color='red')\n",
        "plt.show()"
      ]
    },
    {
      "cell_type": "code",
      "execution_count": null,
      "id": "e24c5b26",
      "metadata": {
        "id": "e24c5b26",
        "outputId": "67a677ad-9d42-4c37-84e9-eab21d35349b"
      },
      "outputs": [
        {
          "data": {
            "text/plain": [
              "<matplotlib.collections.PathCollection at 0x116b31a9ba0>"
            ]
          },
          "execution_count": 22,
          "metadata": {},
          "output_type": "execute_result"
        },
        {
          "data": {
            "image/png": "[encoded data removed]",
            "text/plain": [
              "<Figure size 640x480 with 1 Axes>"
            ]
          },
          "metadata": {},
          "output_type": "display_data"
        }
      ],
      "source": [
        "plt.scatter(X_train,y_predict_train,color='g')"
      ]
    },
    {
      "cell_type": "code",
      "execution_count": null,
      "id": "a8bff925",
      "metadata": {
        "id": "a8bff925"
      },
      "outputs": [],
      "source": [
        "from sklearn.metrics import r2_score"
      ]
    },
    {
      "cell_type": "code",
      "execution_count": null,
      "id": "6182baef",
      "metadata": {
        "id": "6182baef",
        "outputId": "74480eac-ef20-4091-f0ba-24a847802ae7"
      },
      "outputs": [
        {
          "data": {
            "text/plain": [
              "0.9910998765243975"
            ]
          },
          "execution_count": 24,
          "metadata": {},
          "output_type": "execute_result"
        }
      ],
      "source": [
        "r2_score(Y_test,y_test_predict )"
      ]
    },
    {
      "cell_type": "code",
      "execution_count": null,
      "id": "024ab503",
      "metadata": {
        "id": "024ab503"
      },
      "outputs": [],
      "source": []
    }
  ],
  "metadata": {
    "kernelspec": {
      "display_name": "Python 3 (ipykernel)",
      "language": "python",
      "name": "python3"
    },
    "language_info": {
      "codemirror_mode": {
        "name": "ipython",
        "version": 3
      },
      "file_extension": ".py",
      "mimetype": "text/x-python",
      "name": "python",
      "nbconvert_exporter": "python",
      "pygments_lexer": "ipython3",
      "version": "3.10.9"
    },
    "colab": {
      "provenance": []
    }
  },
  "nbformat": 4,
  "nbformat_minor": 5
}